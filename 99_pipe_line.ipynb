{
 "cells": [
  {
   "cell_type": "code",
   "execution_count": 15,
   "metadata": {},
   "outputs": [
    {
     "name": "stderr",
     "output_type": "stream",
     "text": [
      "c:\\Users\\crazy\\.conda\\envs\\kdt\\lib\\site-packages\\ultralytics\\nn\\tasks.py:733: FutureWarning: You are using `torch.load` with `weights_only=False` (the current default value), which uses the default pickle module implicitly. It is possible to construct malicious pickle data which will execute arbitrary code during unpickling (See https://github.com/pytorch/pytorch/blob/main/SECURITY.md#untrusted-models for more details). In a future release, the default value for `weights_only` will be flipped to `True`. This limits the functions that could be executed during unpickling. Arbitrary objects will no longer be allowed to be loaded via this mode unless they are explicitly allowlisted by the user via `torch.serialization.add_safe_globals`. We recommend you start setting `weights_only=True` for any use case where you don't have full control of the loaded file. Please open an issue on GitHub for any issues related to this experimental feature.\n",
      "  ckpt = torch.load(file, map_location=\"cpu\")\n"
     ]
    },
    {
     "name": "stdout",
     "output_type": "stream",
     "text": [
      "\n",
      "0: 320x640 1 Clothing, 1 Human face, 1 Person, 2854.0ms\n",
      "Speed: 4.0ms preprocess, 2854.0ms inference, 7.1ms postprocess per image at shape (1, 3, 320, 640)\n",
      "\n",
      "0: 256x512 (no detections), 139.2ms\n",
      "Speed: 2.5ms preprocess, 139.2ms inference, 1.0ms postprocess per image at shape (1, 3, 256, 512)\n"
     ]
    }
   ],
   "source": [
    "import cv2\n",
    "from ultralytics import YOLO\n",
    "from ultralytics.models import YOLOv10\n",
    "\n",
    "test_image = cv2.imread('test.png')\n",
    "\n",
    "model_object_detect = YOLO('models/yolov8x-oiv7.pt')\n",
    "model_face_emmotion = YOLOv10('models/yolov10n-face.pt')\n",
    "\n",
    "fc = model_object_detect(test_image)[0]\n",
    "od = model_face_emmotion(test_image)[0]"
   ]
  },
  {
   "cell_type": "code",
   "execution_count": 16,
   "metadata": {},
   "outputs": [
    {
     "data": {
      "text/plain": [
       "ultralytics.engine.results.Results object with attributes:\n",
       "\n",
       "boxes: ultralytics.engine.results.Boxes object\n",
       "keypoints: None\n",
       "masks: None\n",
       "names: {0: 'anger', 1: 'sad', 2: 'panic', 3: 'happy'}\n",
       "obb: None\n",
       "orig_img: array([[[54, 79, 91],\n",
       "        [54, 79, 91],\n",
       "        [54, 79, 91],\n",
       "        ...,\n",
       "        [30, 49, 62],\n",
       "        [29, 48, 61],\n",
       "        [29, 48, 61]],\n",
       "\n",
       "       [[54, 79, 91],\n",
       "        [54, 79, 91],\n",
       "        [54, 79, 91],\n",
       "        ...,\n",
       "        [30, 49, 62],\n",
       "        [29, 48, 61],\n",
       "        [29, 48, 61]],\n",
       "\n",
       "       [[54, 79, 91],\n",
       "        [54, 79, 91],\n",
       "        [54, 79, 91],\n",
       "        ...,\n",
       "        [30, 49, 62],\n",
       "        [29, 48, 61],\n",
       "        [29, 48, 61]],\n",
       "\n",
       "       ...,\n",
       "\n",
       "       [[83, 73, 86],\n",
       "        [83, 73, 86],\n",
       "        [83, 73, 86],\n",
       "        ...,\n",
       "        [ 0,  1, 32],\n",
       "        [ 0,  1, 32],\n",
       "        [ 0,  1, 32]],\n",
       "\n",
       "       [[83, 73, 86],\n",
       "        [83, 73, 86],\n",
       "        [83, 73, 86],\n",
       "        ...,\n",
       "        [ 0,  1, 32],\n",
       "        [ 0,  1, 32],\n",
       "        [ 0,  1, 32]],\n",
       "\n",
       "       [[83, 73, 86],\n",
       "        [83, 73, 86],\n",
       "        [83, 73, 86],\n",
       "        ...,\n",
       "        [ 0,  1, 32],\n",
       "        [ 0,  1, 32],\n",
       "        [ 0,  1, 32]]], dtype=uint8)\n",
       "orig_shape: (700, 1400)\n",
       "path: 'image0.jpg'\n",
       "probs: None\n",
       "save_dir: 'E:\\\\py_data\\\\last project\\\\yolov10\\\\runs\\\\detect\\\\predict'\n",
       "speed: {'preprocess': 2.5184154510498047, 'inference': 139.16397094726562, 'postprocess': 1.0018348693847656}"
      ]
     },
     "execution_count": 16,
     "metadata": {},
     "output_type": "execute_result"
    }
   ],
   "source": [
    "fc\n",
    "od"
   ]
  },
  {
   "cell_type": "code",
   "execution_count": 8,
   "metadata": {},
   "outputs": [],
   "source": [
    "emotion_mapping = {0 : '분노', 1 : '슬픔', 2 : '공포', 3 : '기쁨'}\n",
    "oiv7_dict ={}"
   ]
  },
  {
   "cell_type": "code",
   "execution_count": 9,
   "metadata": {},
   "outputs": [],
   "source": [
    "text_intput = [emotion_mapping[int(i)] for i in detections.cls]\n",
    "\n",
    "text_intput_text = ''\n",
    "for i in text_intput:\n",
    "    text_intput_text +=i + ','\n",
    "\n",
    "text_intput_text = text_intput_text[:-1]"
   ]
  },
  {
   "cell_type": "code",
   "execution_count": 12,
   "metadata": {},
   "outputs": [
    {
     "data": {
      "text/plain": [
       "'기쁨,기쁨,분노'"
      ]
     },
     "execution_count": 12,
     "metadata": {},
     "output_type": "execute_result"
    }
   ],
   "source": [
    "text_intput_text"
   ]
  },
  {
   "cell_type": "code",
   "execution_count": 11,
   "metadata": {},
   "outputs": [
    {
     "name": "stdout",
     "output_type": "stream",
     "text": [
      "테스트 입력: 기쁨,기쁨,분노\n",
      "모델의 예측: 기쁨의 표정을 보니 멋진 자연을 만끽하고 계시네요!\n"
     ]
    }
   ],
   "source": [
    "from transformers import T5TokenizerFast, T5ForConditionalGeneration\n",
    "import torch\n",
    "\n",
    "# 저장된 모델과 토크나이저 로드\n",
    "model_save_path = '../model_follow_up/t5/model/'\n",
    "tokenizer_save_path = '../model_follow_up/t5/model/tokenizer/'\n",
    "\n",
    "model = T5ForConditionalGeneration.from_pretrained(model_save_path)\n",
    "tokenizer = T5TokenizerFast.from_pretrained(tokenizer_save_path)\n",
    "\n",
    "# 테스트 입력\n",
    "test_input = text_intput_text\n",
    "# 입력 토큰화\n",
    "input_ids = tokenizer.encode(test_input, return_tensors='pt')\n",
    "\n",
    "# 모델 예측\n",
    "with torch.no_grad():\n",
    "    outputs = model.generate(input_ids, max_length=50, num_beams=4, early_stopping=True)\n",
    "\n",
    "# 예측 결과 디코딩\n",
    "predicted_text = tokenizer.decode(outputs[0], skip_special_tokens=True)\n",
    "\n",
    "print(f\"테스트 입력: {test_input}\")\n",
    "print(f\"모델의 예측: {predicted_text}\")\n"
   ]
  }
 ],
 "metadata": {
  "kernelspec": {
   "display_name": "Python 3 (ipykernel)",
   "language": "python",
   "name": "python3"
  },
  "language_info": {
   "codemirror_mode": {
    "name": "ipython",
    "version": 3
   },
   "file_extension": ".py",
   "mimetype": "text/x-python",
   "name": "python",
   "nbconvert_exporter": "python",
   "pygments_lexer": "ipython3",
   "version": "3.8.19"
  }
 },
 "nbformat": 4,
 "nbformat_minor": 2
}
